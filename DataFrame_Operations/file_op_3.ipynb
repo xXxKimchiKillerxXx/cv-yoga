{
 "cells": [
  {
   "cell_type": "code",
   "execution_count": 1,
   "id": "e992caf3-c34b-4fc2-8955-b12ae43fe3c5",
   "metadata": {},
   "outputs": [],
   "source": [
    "import pandas as pd\n",
    "import os"
   ]
  },
  {
   "cell_type": "code",
   "execution_count": 2,
   "id": "b9945402-8f48-45d7-926f-f1a9a70859ef",
   "metadata": {},
   "outputs": [
    {
     "data": {
      "text/html": [
       "<div>\n",
       "<style scoped>\n",
       "    .dataframe tbody tr th:only-of-type {\n",
       "        vertical-align: middle;\n",
       "    }\n",
       "\n",
       "    .dataframe tbody tr th {\n",
       "        vertical-align: top;\n",
       "    }\n",
       "\n",
       "    .dataframe thead th {\n",
       "        text-align: right;\n",
       "    }\n",
       "</style>\n",
       "<table border=\"1\" class=\"dataframe\">\n",
       "  <thead>\n",
       "    <tr style=\"text-align: right;\">\n",
       "      <th></th>\n",
       "      <th>directory</th>\n",
       "    </tr>\n",
       "  </thead>\n",
       "  <tbody>\n",
       "    <tr>\n",
       "      <th>0</th>\n",
       "      <td>D:\\yoga_train_valitation_1~10\\AI\\Validation\\밧다...</td>\n",
       "    </tr>\n",
       "    <tr>\n",
       "      <th>1</th>\n",
       "      <td>D:\\yoga_train_valitation_1~10\\AI\\Validation\\밧다...</td>\n",
       "    </tr>\n",
       "    <tr>\n",
       "      <th>2</th>\n",
       "      <td>D:\\yoga_train_valitation_1~10\\AI\\Validation\\밧다...</td>\n",
       "    </tr>\n",
       "    <tr>\n",
       "      <th>3</th>\n",
       "      <td>D:\\yoga_train_valitation_1~10\\AI\\Validation\\밧다...</td>\n",
       "    </tr>\n",
       "    <tr>\n",
       "      <th>4</th>\n",
       "      <td>D:\\yoga_train_valitation_1~10\\AI\\Validation\\밧다...</td>\n",
       "    </tr>\n",
       "  </tbody>\n",
       "</table>\n",
       "</div>"
      ],
      "text/plain": [
       "                                           directory\n",
       "0  D:\\yoga_train_valitation_1~10\\AI\\Validation\\밧다...\n",
       "1  D:\\yoga_train_valitation_1~10\\AI\\Validation\\밧다...\n",
       "2  D:\\yoga_train_valitation_1~10\\AI\\Validation\\밧다...\n",
       "3  D:\\yoga_train_valitation_1~10\\AI\\Validation\\밧다...\n",
       "4  D:\\yoga_train_valitation_1~10\\AI\\Validation\\밧다..."
      ]
     },
     "execution_count": 2,
     "metadata": {},
     "output_type": "execute_result"
    }
   ],
   "source": [
    "vids_df_1 = pd.read_excel('../data/vids.xlsx')\n",
    "vids_df_1.head()"
   ]
  },
  {
   "cell_type": "code",
   "execution_count": 3,
   "id": "8ddfe122-cb9b-400f-827e-f9356a0b0cf6",
   "metadata": {
    "scrolled": true
   },
   "outputs": [
    {
     "name": "stdout",
     "output_type": "stream",
     "text": [
      "Help on module ntpath:\n",
      "\n",
      "NAME\n",
      "    ntpath - Common pathname manipulations, WindowsNT/95 version.\n",
      "\n",
      "MODULE REFERENCE\n",
      "    https://docs.python.org/3.12/library/ntpath.html\n",
      "\n",
      "    The following documentation is automatically generated from the Python\n",
      "    source files.  It may be incomplete, incorrect or include features that\n",
      "    are considered implementation detail and may vary between Python\n",
      "    implementations.  When in doubt, consult the module reference at the\n",
      "    location listed above.\n",
      "\n",
      "DESCRIPTION\n",
      "    Instead of importing this module directly, import os and refer to this\n",
      "    module as os.path.\n",
      "\n",
      "FUNCTIONS\n",
      "    abspath(path)\n",
      "        Return the absolute version of a path.\n",
      "\n",
      "    basename(p)\n",
      "        Returns the final component of a pathname\n",
      "\n",
      "    commonpath(paths)\n",
      "        Given a sequence of path names, returns the longest common sub-path.\n",
      "\n",
      "    commonprefix(m)\n",
      "        Given a list of pathnames, returns the longest common leading component\n",
      "\n",
      "    dirname(p)\n",
      "        Returns the directory component of a pathname\n",
      "\n",
      "    exists = _path_exists(path)\n",
      "        Test whether a path exists.  Returns False for broken symbolic links\n",
      "\n",
      "    expanduser(path)\n",
      "        Expand ~ and ~user constructs.\n",
      "\n",
      "        If user or $HOME is unknown, do nothing.\n",
      "\n",
      "    expandvars(path)\n",
      "        Expand shell variables of the forms $var, ${var} and %var%.\n",
      "\n",
      "        Unknown variables are left unchanged.\n",
      "\n",
      "    getatime(filename)\n",
      "        Return the last access time of a file, reported by os.stat().\n",
      "\n",
      "    getctime(filename)\n",
      "        Return the metadata change time of a file, reported by os.stat().\n",
      "\n",
      "    getmtime(filename)\n",
      "        Return the last modification time of a file, reported by os.stat().\n",
      "\n",
      "    getsize(filename)\n",
      "        Return the size of a file, reported by os.stat().\n",
      "\n",
      "    isabs(s)\n",
      "        Test whether a path is absolute\n",
      "\n",
      "    isdir = _path_isdir(s)\n",
      "        Return true if the pathname refers to an existing directory.\n",
      "\n",
      "    isfile = _path_isfile(path)\n",
      "        Test whether a path is a regular file\n",
      "\n",
      "    isjunction(path)\n",
      "        Test whether a path is a junction\n",
      "\n",
      "    islink = _path_islink(path)\n",
      "        Test whether a path is a symbolic link\n",
      "\n",
      "    ismount(path)\n",
      "        Test whether a path is a mount point (a drive root, the root of a\n",
      "        share, or a mounted volume)\n",
      "\n",
      "    join(path, *paths)\n",
      "\n",
      "    lexists(path)\n",
      "        Test whether a path exists.  Returns True for broken symbolic links\n",
      "\n",
      "    normcase(s)\n",
      "        Normalize case of pathname.\n",
      "\n",
      "        Makes all characters lowercase and all slashes into backslashes.\n",
      "\n",
      "    normpath(path)\n",
      "        Normalize path, eliminating double slashes, etc.\n",
      "\n",
      "    realpath(path, *, strict=False)\n",
      "\n",
      "    relpath(path, start=None)\n",
      "        Return a relative version of a path\n",
      "\n",
      "    samefile(f1, f2)\n",
      "        Test whether two pathnames reference the same actual file or directory\n",
      "\n",
      "        This is determined by the device number and i-node number and\n",
      "        raises an exception if an os.stat() call on either pathname fails.\n",
      "\n",
      "    sameopenfile(fp1, fp2)\n",
      "        Test whether two open file objects reference the same file\n",
      "\n",
      "    samestat(s1, s2)\n",
      "        Test whether two stat buffers reference the same file\n",
      "\n",
      "    split(p)\n",
      "        Split a pathname.\n",
      "\n",
      "        Return tuple (head, tail) where tail is everything after the final slash.\n",
      "        Either part may be empty.\n",
      "\n",
      "    splitdrive(p)\n",
      "        Split a pathname into drive/UNC sharepoint and relative path specifiers.\n",
      "        Returns a 2-tuple (drive_or_unc, path); either part may be empty.\n",
      "\n",
      "        If you assign\n",
      "            result = splitdrive(p)\n",
      "        It is always true that:\n",
      "            result[0] + result[1] == p\n",
      "\n",
      "        If the path contained a drive letter, drive_or_unc will contain everything\n",
      "        up to and including the colon.  e.g. splitdrive(\"c:/dir\") returns (\"c:\", \"/dir\")\n",
      "\n",
      "        If the path contained a UNC path, the drive_or_unc will contain the host name\n",
      "        and share up to but not including the fourth directory separator character.\n",
      "        e.g. splitdrive(\"//host/computer/dir\") returns (\"//host/computer\", \"/dir\")\n",
      "\n",
      "        Paths cannot contain both a drive letter and a UNC path.\n",
      "\n",
      "    splitext(p)\n",
      "        Split the extension from a pathname.\n",
      "\n",
      "        Extension is everything from the last dot to the end, ignoring\n",
      "        leading dots.  Returns \"(root, ext)\"; ext may be empty.\n",
      "\n",
      "    splitroot(p)\n",
      "        Split a pathname into drive, root and tail. The drive is defined\n",
      "        exactly as in splitdrive(). On Windows, the root may be a single path\n",
      "        separator or an empty string. The tail contains anything after the root.\n",
      "        For example:\n",
      "\n",
      "            splitroot('//server/share/') == ('//server/share', '/', '')\n",
      "            splitroot('C:/Users/Barney') == ('C:', '/', 'Users/Barney')\n",
      "            splitroot('C:///spam///ham') == ('C:', '/', '//spam///ham')\n",
      "            splitroot('Windows/notepad') == ('', '', 'Windows/notepad')\n",
      "\n",
      "DATA\n",
      "    __all__ = ['normcase', 'isabs', 'join', 'splitdrive', 'splitroot', 'sp...\n",
      "    altsep = '/'\n",
      "    curdir = '.'\n",
      "    defpath = r'.;C:\\bin'\n",
      "    devnull = 'nul'\n",
      "    extsep = '.'\n",
      "    pardir = '..'\n",
      "    pathsep = ';'\n",
      "    sep = r'\\'\n",
      "    supports_unicode_filenames = True\n",
      "\n",
      "FILE\n",
      "    c:\\users\\user\\anaconda3\\lib\\ntpath.py\n",
      "\n",
      "\n"
     ]
    }
   ],
   "source": [
    "help(os.path)"
   ]
  },
  {
   "cell_type": "markdown",
   "id": "34ac6df6-8fc8-4c5b-a763-d799f1d0fa0e",
   "metadata": {},
   "source": [
    "https://docs.python.org/3/library/os.path.html"
   ]
  },
  {
   "cell_type": "markdown",
   "id": "a9fcb51b-4895-4194-93e7-569986cf5a68",
   "metadata": {},
   "source": [
    "<dl class=\"py function\">\n",
    "<dt class=\"sig sig-object py\" id=\"os.path.split\">\n",
    "<span class=\"sig-prename descclassname\"><span class=\"pre\">os.path.</span></span><span class=\"sig-name descname\"><span class=\"pre\">split</span></span><span class=\"sig-paren\">(</span><em class=\"sig-param\"><span class=\"n\"><span class=\"pre\">path</span></span></em><span class=\"sig-paren\">)</span><a class=\"headerlink\" href=\"https://docs.python.org/3/library/os.path.html#os.path.split\" title=\"Link to this definition\">¶</a></dt>\n",
    "<dd><p>Split the pathname <em>path</em> into a pair, <code class=\"docutils literal notranslate\"><span class=\"pre\">(head,</span> <span class=\"pre\">tail)</span></code> where <em>tail</em> is the\n",
    "last pathname component and <em>head</em> is everything leading up to that.  The\n",
    "<em>tail</em> part will never contain a slash; if <em>path</em> ends in a slash, <em>tail</em>\n",
    "will be empty.  If there is no slash in <em>path</em>, <em>head</em> will be empty.  If\n",
    "<em>path</em> is empty, both <em>head</em> and <em>tail</em> are empty.  Trailing slashes are\n",
    "stripped from <em>head</em> unless it is the root (one or more slashes only).  In\n",
    "all cases, <code class=\"docutils literal notranslate\"><span class=\"pre\">join(head,</span> <span class=\"pre\">tail)</span></code> returns a path to the same location as <em>path</em>\n",
    "(but the strings may differ).  Also see the functions <a class=\"reference internal\" href=\"#os.path.dirname\" title=\"os.path.dirname\"><code class=\"xref py py-func docutils literal notranslate\"><span class=\"pre\">dirname()</span></code></a> and\n",
    "<a class=\"reference internal\" href=\"#os.path.basename\" title=\"os.path.basename\"><code class=\"xref py py-func docutils literal notranslate\"><span class=\"pre\">basename()</span></code></a>.</p>\n",
    "<div class=\"versionchanged\">\n",
    "<p><span class=\"versionmodified changed\">Changed in version 3.6: </span>Accepts a <a class=\"reference internal\" href=\"https://docs.python.org/3/glossary.html#term-path-like-object\"><span class=\"xref std std-term\">path-like object</span></a>.</p>\n",
    "</div>\n",
    "</dd></dl>"
   ]
  },
  {
   "cell_type": "code",
   "execution_count": 6,
   "id": "49cc5b94-b3b1-4cd6-8dba-166a9769fd55",
   "metadata": {},
   "outputs": [
    {
     "data": {
      "text/plain": [
       "('D:\\\\yoga_train_valitation_1~10\\\\AI\\\\Validation\\\\밧다코나사나\\\\밧다코나사나val_1\\\\중급\\\\actorY056\\\\20220822_13.00.00_가산B\\\\camera1\\\\color',\n",
       " 'keypoints_요가-가산-B--밧다코나사나-중급-actorY056-20220822_13.00.00_CAM_1.mp4')"
      ]
     },
     "execution_count": 6,
     "metadata": {},
     "output_type": "execute_result"
    }
   ],
   "source": [
    "os.path.split(vids_df_1.iloc[0, 0])"
   ]
  },
  {
   "cell_type": "code",
   "execution_count": 7,
   "id": "7c5a5a9e-3b29-467e-a5e5-21b6bf35e867",
   "metadata": {},
   "outputs": [
    {
     "name": "stdout",
     "output_type": "stream",
     "text": [
      "D:\\yoga_train_valitation_1~10\\AI\\Validation\\밧다코나사나\\밧다코나사나val_1\\중급\\actorY056\\20220822_13.00.00_가산B\\camera1\\color\n"
     ]
    }
   ],
   "source": [
    "tmp_1 = os.path.dirname(vids_df_1.iloc[0, 0])\n",
    "print(tmp_1)"
   ]
  },
  {
   "cell_type": "code",
   "execution_count": 8,
   "id": "2331168d-2fab-4c71-9900-acba778c3d96",
   "metadata": {},
   "outputs": [
    {
     "name": "stdout",
     "output_type": "stream",
     "text": [
      "D:\\yoga_train_valitation_1~10\\AI\\Validation\\밧다코나사나\\밧다코나사나val_1\\중급\\actorY056\\20220822_13.00.00_가산B\\camera1\n"
     ]
    }
   ],
   "source": [
    "tmp_2 = os.path.dirname(tmp_1)\n",
    "print(tmp_2)"
   ]
  },
  {
   "cell_type": "code",
   "execution_count": 9,
   "id": "05ed412d-2208-44bd-92cd-a78b4d5199a3",
   "metadata": {},
   "outputs": [
    {
     "name": "stdout",
     "output_type": "stream",
     "text": [
      "('D:\\\\yoga_train_valitation_1~10\\\\AI\\\\Validation\\\\밧다코나사나\\\\밧다코나사나val_1\\\\중급\\\\actorY056\\\\20220822_13.00.00_가산B', 'camera1')\n"
     ]
    }
   ],
   "source": [
    "tmp_3 = os.path.split(tmp_2)\n",
    "print(tmp_3)"
   ]
  },
  {
   "cell_type": "markdown",
   "id": "409506c5-f654-4bb6-9e0e-d5a3dbe98dd9",
   "metadata": {},
   "source": [
    "결과물인 tmp_3 튜플의 1번 인덱스 값이 카메라 이름입니다."
   ]
  },
  {
   "cell_type": "code",
   "execution_count": 25,
   "id": "1d8206b4-63cf-47e7-b7f8-2a53c12146c9",
   "metadata": {},
   "outputs": [],
   "source": [
    "def find_cam(path):\n",
    "    tmp_dir_1 = os.path.dirname(path) # 루트 디렉토리를 획득합니다.\n",
    "    '''\n",
    "    (예시)\n",
    "    영상 파일에서 한 단계 위로 넘어갑니다. 반환하는 값은 도달한 디렉토리입니다.\n",
    "    tmp_dir\n",
    "    >>> D:\\\\yoga_train_valitation_1~10\\\\AI\\\\Validation\\\\밧다코나사나\\\\밧다코나사나val_1\\\\중급\\\\actorY056\\\\20220822_13.00.00_가산B\\\\camera1\\\\color\n",
    "    '''\n",
    "    tmp_dir_2 = os.path.dirname(tmp_dir_1)\n",
    "    tmp_split_dir = os.path.split(tmp_dir_2)\n",
    "    camera_dir = os.path.split(tmp_dir_2)[1] # 카메라 이름을 획득합니다.\n",
    "    return camera_dir"
   ]
  },
  {
   "cell_type": "code",
   "execution_count": 27,
   "id": "fbf27f1c-36ca-42d1-8981-0a77f3ec6483",
   "metadata": {},
   "outputs": [],
   "source": [
    "camera_series = vids_df_1.apply(lambda x: find_cam(x.loc['directory']), axis=1)"
   ]
  },
  {
   "cell_type": "code",
   "execution_count": 29,
   "id": "0b86a4fb-18f0-4803-b9ee-bbdc338501aa",
   "metadata": {},
   "outputs": [
    {
     "data": {
      "text/plain": [
       "0       camera1\n",
       "1       camera2\n",
       "2       camera3\n",
       "3       camera4\n",
       "4       camera5\n",
       "         ...   \n",
       "3797    camera4\n",
       "3798    camera5\n",
       "3799    camera6\n",
       "3800    camera7\n",
       "3801    camera8\n",
       "Length: 3802, dtype: object"
      ]
     },
     "execution_count": 29,
     "metadata": {},
     "output_type": "execute_result"
    }
   ],
   "source": [
    "camera_series"
   ]
  },
  {
   "cell_type": "code",
   "execution_count": 31,
   "id": "e5f4d2d3-9525-4492-a21b-e5c1a770f9da",
   "metadata": {},
   "outputs": [
    {
     "data": {
      "text/plain": [
       "'D:\\\\yoga_train_valitation_1~10\\\\AI\\\\Validation\\\\밧다코나사나\\\\밧다코나사나val_1\\\\중급\\\\actorY056\\\\20220822_13.00.00_가산B\\\\camera1'"
      ]
     },
     "execution_count": 31,
     "metadata": {},
     "output_type": "execute_result"
    }
   ],
   "source": [
    "tmp_2"
   ]
  },
  {
   "cell_type": "code",
   "execution_count": 33,
   "id": "bcfa5c5b-e5b3-426f-a65c-681af4b250af",
   "metadata": {},
   "outputs": [
    {
     "name": "stdout",
     "output_type": "stream",
     "text": [
      "('D:\\\\yoga_train_valitation_1~10\\\\AI\\\\Validation\\\\밧다코나사나\\\\밧다코나사나val_1\\\\중급\\\\actorY056\\\\20220822_13.00.00_가산B', 'camera1')\n"
     ]
    }
   ],
   "source": [
    "tmp_4 = os.path.split(tmp_2)\n",
    "print(tmp_4)"
   ]
  },
  {
   "cell_type": "code",
   "execution_count": 35,
   "id": "ba05b08b-4c9d-4d82-ae34-843f1b43a126",
   "metadata": {},
   "outputs": [],
   "source": [
    "tmp_5 = tmp_4[0] # 카메라 폴더의 상위 디렉토리입니다."
   ]
  },
  {
   "cell_type": "code",
   "execution_count": 41,
   "id": "ff3b8495-452c-4225-a5ee-08eed346e9f1",
   "metadata": {
    "scrolled": true
   },
   "outputs": [
    {
     "name": "stdout",
     "output_type": "stream",
     "text": [
      "('D:\\\\yoga_train_valitation_1~10\\\\AI\\\\Validation\\\\밧다코나사나\\\\밧다코나사나val_1\\\\중급\\\\actorY056\\\\20220822_13.00.00_가산B', ['camera1', 'camera2', 'camera3', 'camera4', 'camera5', 'camera6', 'camera7', 'camera8'], ['keypoints_요가-가산-B--밧다코나사나-중급-actorY056-20220822_13.00.00.csv', 'normal_AI_요가_밧다코나사나_중급_actorY056_20220822_13.00.00_가산B.json'])\n",
      "('D:\\\\yoga_train_valitation_1~10\\\\AI\\\\Validation\\\\밧다코나사나\\\\밧다코나사나val_1\\\\중급\\\\actorY056\\\\20220822_13.00.00_가산B\\\\camera1', ['color', 'keypoints'], [])\n",
      "('D:\\\\yoga_train_valitation_1~10\\\\AI\\\\Validation\\\\밧다코나사나\\\\밧다코나사나val_1\\\\중급\\\\actorY056\\\\20220822_13.00.00_가산B\\\\camera1\\\\color', [], ['keypoints_요가-가산-B--밧다코나사나-중급-actorY056-20220822_13.00.00_CAM_1.mp4', 'keypoints_요가-가산-B--밧다코나사나-중급-actorY056-20220822_13.00.00_CAM_1.txt'])\n",
      "('D:\\\\yoga_train_valitation_1~10\\\\AI\\\\Validation\\\\밧다코나사나\\\\밧다코나사나val_1\\\\중급\\\\actorY056\\\\20220822_13.00.00_가산B\\\\camera1\\\\keypoints', [], ['keypoints_요가-가산-B--밧다코나사나-중급-actorY056-20220822_13.00.00_CAM_1.csv'])\n",
      "('D:\\\\yoga_train_valitation_1~10\\\\AI\\\\Validation\\\\밧다코나사나\\\\밧다코나사나val_1\\\\중급\\\\actorY056\\\\20220822_13.00.00_가산B\\\\camera2', ['color', 'keypoints'], [])\n",
      "('D:\\\\yoga_train_valitation_1~10\\\\AI\\\\Validation\\\\밧다코나사나\\\\밧다코나사나val_1\\\\중급\\\\actorY056\\\\20220822_13.00.00_가산B\\\\camera2\\\\color', [], ['keypoints_요가-가산-B--밧다코나사나-중급-actorY056-20220822_13.00.00_CAM_2.mp4', 'keypoints_요가-가산-B--밧다코나사나-중급-actorY056-20220822_13.00.00_CAM_2.txt'])\n",
      "('D:\\\\yoga_train_valitation_1~10\\\\AI\\\\Validation\\\\밧다코나사나\\\\밧다코나사나val_1\\\\중급\\\\actorY056\\\\20220822_13.00.00_가산B\\\\camera2\\\\keypoints', [], ['keypoints_요가-가산-B--밧다코나사나-중급-actorY056-20220822_13.00.00_CAM_2.csv'])\n",
      "('D:\\\\yoga_train_valitation_1~10\\\\AI\\\\Validation\\\\밧다코나사나\\\\밧다코나사나val_1\\\\중급\\\\actorY056\\\\20220822_13.00.00_가산B\\\\camera3', ['color', 'keypoints'], [])\n",
      "('D:\\\\yoga_train_valitation_1~10\\\\AI\\\\Validation\\\\밧다코나사나\\\\밧다코나사나val_1\\\\중급\\\\actorY056\\\\20220822_13.00.00_가산B\\\\camera3\\\\color', [], ['keypoints_요가-가산-B--밧다코나사나-중급-actorY056-20220822_13.00.00_CAM_3.mp4', 'keypoints_요가-가산-B--밧다코나사나-중급-actorY056-20220822_13.00.00_CAM_3.txt'])\n",
      "('D:\\\\yoga_train_valitation_1~10\\\\AI\\\\Validation\\\\밧다코나사나\\\\밧다코나사나val_1\\\\중급\\\\actorY056\\\\20220822_13.00.00_가산B\\\\camera3\\\\keypoints', [], ['keypoints_요가-가산-B--밧다코나사나-중급-actorY056-20220822_13.00.00_CAM_3.csv'])\n",
      "('D:\\\\yoga_train_valitation_1~10\\\\AI\\\\Validation\\\\밧다코나사나\\\\밧다코나사나val_1\\\\중급\\\\actorY056\\\\20220822_13.00.00_가산B\\\\camera4', ['color', 'keypoints'], [])\n",
      "('D:\\\\yoga_train_valitation_1~10\\\\AI\\\\Validation\\\\밧다코나사나\\\\밧다코나사나val_1\\\\중급\\\\actorY056\\\\20220822_13.00.00_가산B\\\\camera4\\\\color', [], ['keypoints_요가-가산-B--밧다코나사나-중급-actorY056-20220822_13.00.00_CAM_4.mp4', 'keypoints_요가-가산-B--밧다코나사나-중급-actorY056-20220822_13.00.00_CAM_4.txt'])\n",
      "('D:\\\\yoga_train_valitation_1~10\\\\AI\\\\Validation\\\\밧다코나사나\\\\밧다코나사나val_1\\\\중급\\\\actorY056\\\\20220822_13.00.00_가산B\\\\camera4\\\\keypoints', [], ['keypoints_요가-가산-B--밧다코나사나-중급-actorY056-20220822_13.00.00_CAM_4.csv'])\n",
      "('D:\\\\yoga_train_valitation_1~10\\\\AI\\\\Validation\\\\밧다코나사나\\\\밧다코나사나val_1\\\\중급\\\\actorY056\\\\20220822_13.00.00_가산B\\\\camera5', ['color', 'keypoints'], [])\n",
      "('D:\\\\yoga_train_valitation_1~10\\\\AI\\\\Validation\\\\밧다코나사나\\\\밧다코나사나val_1\\\\중급\\\\actorY056\\\\20220822_13.00.00_가산B\\\\camera5\\\\color', [], ['keypoints_요가-가산-B--밧다코나사나-중급-actorY056-20220822_13.00.00_CAM_5.mp4', 'keypoints_요가-가산-B--밧다코나사나-중급-actorY056-20220822_13.00.00_CAM_5.txt'])\n",
      "('D:\\\\yoga_train_valitation_1~10\\\\AI\\\\Validation\\\\밧다코나사나\\\\밧다코나사나val_1\\\\중급\\\\actorY056\\\\20220822_13.00.00_가산B\\\\camera5\\\\keypoints', [], ['keypoints_요가-가산-B--밧다코나사나-중급-actorY056-20220822_13.00.00_CAM_5.csv'])\n",
      "('D:\\\\yoga_train_valitation_1~10\\\\AI\\\\Validation\\\\밧다코나사나\\\\밧다코나사나val_1\\\\중급\\\\actorY056\\\\20220822_13.00.00_가산B\\\\camera6', ['color', 'keypoints'], [])\n",
      "('D:\\\\yoga_train_valitation_1~10\\\\AI\\\\Validation\\\\밧다코나사나\\\\밧다코나사나val_1\\\\중급\\\\actorY056\\\\20220822_13.00.00_가산B\\\\camera6\\\\color', [], ['keypoints_요가-가산-B--밧다코나사나-중급-actorY056-20220822_13.00.00_CAM_6.mp4', 'keypoints_요가-가산-B--밧다코나사나-중급-actorY056-20220822_13.00.00_CAM_6.txt'])\n",
      "('D:\\\\yoga_train_valitation_1~10\\\\AI\\\\Validation\\\\밧다코나사나\\\\밧다코나사나val_1\\\\중급\\\\actorY056\\\\20220822_13.00.00_가산B\\\\camera6\\\\keypoints', [], ['keypoints_요가-가산-B--밧다코나사나-중급-actorY056-20220822_13.00.00_CAM_6.csv'])\n",
      "('D:\\\\yoga_train_valitation_1~10\\\\AI\\\\Validation\\\\밧다코나사나\\\\밧다코나사나val_1\\\\중급\\\\actorY056\\\\20220822_13.00.00_가산B\\\\camera7', ['color', 'keypoints'], [])\n",
      "('D:\\\\yoga_train_valitation_1~10\\\\AI\\\\Validation\\\\밧다코나사나\\\\밧다코나사나val_1\\\\중급\\\\actorY056\\\\20220822_13.00.00_가산B\\\\camera7\\\\color', [], ['keypoints_요가-가산-B--밧다코나사나-중급-actorY056-20220822_13.00.00_CAM_7.mp4', 'keypoints_요가-가산-B--밧다코나사나-중급-actorY056-20220822_13.00.00_CAM_7.txt'])\n",
      "('D:\\\\yoga_train_valitation_1~10\\\\AI\\\\Validation\\\\밧다코나사나\\\\밧다코나사나val_1\\\\중급\\\\actorY056\\\\20220822_13.00.00_가산B\\\\camera7\\\\keypoints', [], ['keypoints_요가-가산-B--밧다코나사나-중급-actorY056-20220822_13.00.00_CAM_7.csv'])\n",
      "('D:\\\\yoga_train_valitation_1~10\\\\AI\\\\Validation\\\\밧다코나사나\\\\밧다코나사나val_1\\\\중급\\\\actorY056\\\\20220822_13.00.00_가산B\\\\camera8', ['color', 'keypoints'], [])\n",
      "('D:\\\\yoga_train_valitation_1~10\\\\AI\\\\Validation\\\\밧다코나사나\\\\밧다코나사나val_1\\\\중급\\\\actorY056\\\\20220822_13.00.00_가산B\\\\camera8\\\\color', [], ['keypoints_요가-가산-B--밧다코나사나-중급-actorY056-20220822_13.00.00_CAM_8.mp4', 'keypoints_요가-가산-B--밧다코나사나-중급-actorY056-20220822_13.00.00_CAM_8.txt'])\n",
      "('D:\\\\yoga_train_valitation_1~10\\\\AI\\\\Validation\\\\밧다코나사나\\\\밧다코나사나val_1\\\\중급\\\\actorY056\\\\20220822_13.00.00_가산B\\\\camera8\\\\keypoints', [], ['keypoints_요가-가산-B--밧다코나사나-중급-actorY056-20220822_13.00.00_CAM_8.csv'])\n"
     ]
    }
   ],
   "source": [
    "for items in os.walk(tmp_5):\n",
    "    print(items)"
   ]
  },
  {
   "cell_type": "code",
   "execution_count": null,
   "id": "38533ac2-3d78-4e18-95ba-7882e1bdf57f",
   "metadata": {},
   "outputs": [],
   "source": []
  }
 ],
 "metadata": {
  "kernelspec": {
   "display_name": "Python 3 (ipykernel)",
   "language": "python",
   "name": "python3"
  },
  "language_info": {
   "codemirror_mode": {
    "name": "ipython",
    "version": 3
   },
   "file_extension": ".py",
   "mimetype": "text/x-python",
   "name": "python",
   "nbconvert_exporter": "python",
   "pygments_lexer": "ipython3",
   "version": "3.12.3"
  }
 },
 "nbformat": 4,
 "nbformat_minor": 5
}
