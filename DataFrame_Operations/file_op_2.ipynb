{
 "cells": [
  {
   "cell_type": "code",
   "execution_count": 1,
   "id": "53fd2dc4-9cba-4ca5-97f0-3a18af0748a4",
   "metadata": {},
   "outputs": [],
   "source": [
    "import pandas as pd\n",
    "import os\n",
    "import shutil"
   ]
  },
  {
   "cell_type": "code",
   "execution_count": 3,
   "id": "363caae7-7d15-47b5-b81b-602184bf40ea",
   "metadata": {},
   "outputs": [],
   "source": [
    "vids_df_1 = pd.read_excel('../data/vids.xlsx', header=None)"
   ]
  },
  {
   "cell_type": "code",
   "execution_count": 5,
   "id": "b633436a-b386-4d90-8449-08670fe9ca4c",
   "metadata": {},
   "outputs": [
    {
     "data": {
      "text/html": [
       "<div>\n",
       "<style scoped>\n",
       "    .dataframe tbody tr th:only-of-type {\n",
       "        vertical-align: middle;\n",
       "    }\n",
       "\n",
       "    .dataframe tbody tr th {\n",
       "        vertical-align: top;\n",
       "    }\n",
       "\n",
       "    .dataframe thead th {\n",
       "        text-align: right;\n",
       "    }\n",
       "</style>\n",
       "<table border=\"1\" class=\"dataframe\">\n",
       "  <thead>\n",
       "    <tr style=\"text-align: right;\">\n",
       "      <th></th>\n",
       "      <th>0</th>\n",
       "    </tr>\n",
       "  </thead>\n",
       "  <tbody>\n",
       "    <tr>\n",
       "      <th>0</th>\n",
       "      <td>D:\\yoga_train_valitation_1~10\\AI\\Validation\\밧다...</td>\n",
       "    </tr>\n",
       "    <tr>\n",
       "      <th>1</th>\n",
       "      <td>D:\\yoga_train_valitation_1~10\\AI\\Validation\\밧다...</td>\n",
       "    </tr>\n",
       "    <tr>\n",
       "      <th>2</th>\n",
       "      <td>D:\\yoga_train_valitation_1~10\\AI\\Validation\\밧다...</td>\n",
       "    </tr>\n",
       "    <tr>\n",
       "      <th>3</th>\n",
       "      <td>D:\\yoga_train_valitation_1~10\\AI\\Validation\\밧다...</td>\n",
       "    </tr>\n",
       "    <tr>\n",
       "      <th>4</th>\n",
       "      <td>D:\\yoga_train_valitation_1~10\\AI\\Validation\\밧다...</td>\n",
       "    </tr>\n",
       "  </tbody>\n",
       "</table>\n",
       "</div>"
      ],
      "text/plain": [
       "                                                   0\n",
       "0  D:\\yoga_train_valitation_1~10\\AI\\Validation\\밧다...\n",
       "1  D:\\yoga_train_valitation_1~10\\AI\\Validation\\밧다...\n",
       "2  D:\\yoga_train_valitation_1~10\\AI\\Validation\\밧다...\n",
       "3  D:\\yoga_train_valitation_1~10\\AI\\Validation\\밧다...\n",
       "4  D:\\yoga_train_valitation_1~10\\AI\\Validation\\밧다..."
      ]
     },
     "execution_count": 5,
     "metadata": {},
     "output_type": "execute_result"
    }
   ],
   "source": [
    "vids_df_1.head()"
   ]
  },
  {
   "cell_type": "code",
   "execution_count": 17,
   "id": "3e966d0d-4120-4fe9-86fb-f07714545087",
   "metadata": {},
   "outputs": [
    {
     "data": {
      "text/plain": [
       "pandas.core.series.Series"
      ]
     },
     "execution_count": 17,
     "metadata": {},
     "output_type": "execute_result"
    }
   ],
   "source": [
    "type(vids_df_1.iloc[0])"
   ]
  },
  {
   "cell_type": "markdown",
   "id": "fa13e7d9-1072-4caf-be4a-12dd5337cf2c",
   "metadata": {},
   "source": [
    "열을 인덱스로 인식하고 있습니다. 0행을 가져오도록 하겠습니다."
   ]
  },
  {
   "cell_type": "code",
   "execution_count": 20,
   "id": "7319c158-67b9-4ffa-976e-d6c2f8363ce7",
   "metadata": {},
   "outputs": [
    {
     "name": "stdout",
     "output_type": "stream",
     "text": [
      "D:\\yoga_train_valitation_1~10\\AI\\Validation\\밧다코나사나\\밧다코나사나val_1\\중급\\actorY056\\20220822_13.00.00_가산B\\camera1\\color\\keypoints_요가-가산-B--밧다코나사나-중급-actorY056-20220822_13.00.00_CAM_1.mp4\n"
     ]
    }
   ],
   "source": [
    "print(vids_df_1.iloc[0, 0])"
   ]
  },
  {
   "cell_type": "markdown",
   "id": "d378b237-4077-48f6-b338-35791589b924",
   "metadata": {},
   "source": [
    "불러오기가 성공적입니다.\n",
    "\n",
    "file_op_1.ipynb 파일의 내용으로 함수를 만들겠습니다."
   ]
  },
  {
   "cell_type": "code",
   "execution_count": 25,
   "id": "66f82efd-57ed-4abd-93ff-3adc028f0cab",
   "metadata": {},
   "outputs": [],
   "source": [
    "def get_vids_df(root_dir='D:/yoga_train_valitation_1~10/'): # DataFrame을 반환하는 함수를 정의합니다.\n",
    "    vids = [] # 영상 경로가 들어갈 리스트를 준비합니다.\n",
    "    for (root, dirs, files) in os.walk(root_dir): # walk를 통해 전체 디렉토리를 순회합니다.\n",
    "        for file in files: # 파일명 리스트를 순회합니다.\n",
    "            if file.endswith('.mp4'): # 영상 파일만 가져옵니다.\n",
    "                file_path = os.path.join(root, file) # 루트 경로와 파일명을 결합하면 실제 파일의 위치가 됩니다.\n",
    "                file_normpath = os.path.normpath(file_path) # 경로를 정규화합니다.\n",
    "                vids.append(file_normpath) # 경로를 리스트의 마지막에 추가합니다.\n",
    "    \n",
    "    vids_df = pd.DataFrame(data=vids, columns=['directory']) # 영상 경로 리스트에서 열 이름을 'directory'로 지정합니다.\n",
    "    return vids_df # DataFrame을 반환합니다."
   ]
  },
  {
   "cell_type": "code",
   "execution_count": 27,
   "id": "a3e018b0-772e-405c-96d1-0e1be9991531",
   "metadata": {},
   "outputs": [],
   "source": [
    "my_df_1 = get_vids_df()"
   ]
  },
  {
   "cell_type": "code",
   "execution_count": 29,
   "id": "c09d8f64-811b-47f7-bf91-2bd76fcb02d2",
   "metadata": {},
   "outputs": [
    {
     "data": {
      "text/html": [
       "<div>\n",
       "<style scoped>\n",
       "    .dataframe tbody tr th:only-of-type {\n",
       "        vertical-align: middle;\n",
       "    }\n",
       "\n",
       "    .dataframe tbody tr th {\n",
       "        vertical-align: top;\n",
       "    }\n",
       "\n",
       "    .dataframe thead th {\n",
       "        text-align: right;\n",
       "    }\n",
       "</style>\n",
       "<table border=\"1\" class=\"dataframe\">\n",
       "  <thead>\n",
       "    <tr style=\"text-align: right;\">\n",
       "      <th></th>\n",
       "      <th>directory</th>\n",
       "    </tr>\n",
       "  </thead>\n",
       "  <tbody>\n",
       "    <tr>\n",
       "      <th>0</th>\n",
       "      <td>D:\\yoga_train_valitation_1~10\\AI\\Validation\\밧다...</td>\n",
       "    </tr>\n",
       "    <tr>\n",
       "      <th>1</th>\n",
       "      <td>D:\\yoga_train_valitation_1~10\\AI\\Validation\\밧다...</td>\n",
       "    </tr>\n",
       "    <tr>\n",
       "      <th>2</th>\n",
       "      <td>D:\\yoga_train_valitation_1~10\\AI\\Validation\\밧다...</td>\n",
       "    </tr>\n",
       "    <tr>\n",
       "      <th>3</th>\n",
       "      <td>D:\\yoga_train_valitation_1~10\\AI\\Validation\\밧다...</td>\n",
       "    </tr>\n",
       "    <tr>\n",
       "      <th>4</th>\n",
       "      <td>D:\\yoga_train_valitation_1~10\\AI\\Validation\\밧다...</td>\n",
       "    </tr>\n",
       "  </tbody>\n",
       "</table>\n",
       "</div>"
      ],
      "text/plain": [
       "                                           directory\n",
       "0  D:\\yoga_train_valitation_1~10\\AI\\Validation\\밧다...\n",
       "1  D:\\yoga_train_valitation_1~10\\AI\\Validation\\밧다...\n",
       "2  D:\\yoga_train_valitation_1~10\\AI\\Validation\\밧다...\n",
       "3  D:\\yoga_train_valitation_1~10\\AI\\Validation\\밧다...\n",
       "4  D:\\yoga_train_valitation_1~10\\AI\\Validation\\밧다..."
      ]
     },
     "execution_count": 29,
     "metadata": {},
     "output_type": "execute_result"
    }
   ],
   "source": [
    "my_df_1.head()"
   ]
  },
  {
   "cell_type": "code",
   "execution_count": 31,
   "id": "feba6961-0a0f-4a83-99ed-df07a09df2c8",
   "metadata": {},
   "outputs": [],
   "source": [
    "def save_as_excel(excel_writer):\n",
    "    vids_df = get_vids_df()\n",
    "    vids_df.to_excel(index=False, excel_writer=excel_writer)"
   ]
  },
  {
   "cell_type": "code",
   "execution_count": 33,
   "id": "7ecf1e3c-15a8-448e-a2cf-7a1189857062",
   "metadata": {},
   "outputs": [],
   "source": [
    "save_as_excel(excel_writer='../data/vids.xlsx')"
   ]
  },
  {
   "cell_type": "code",
   "execution_count": null,
   "id": "3fa6c059-694a-4f01-80b3-93ad4fe7676c",
   "metadata": {},
   "outputs": [],
   "source": []
  }
 ],
 "metadata": {
  "kernelspec": {
   "display_name": "Python 3 (ipykernel)",
   "language": "python",
   "name": "python3"
  },
  "language_info": {
   "codemirror_mode": {
    "name": "ipython",
    "version": 3
   },
   "file_extension": ".py",
   "mimetype": "text/x-python",
   "name": "python",
   "nbconvert_exporter": "python",
   "pygments_lexer": "ipython3",
   "version": "3.12.3"
  }
 },
 "nbformat": 4,
 "nbformat_minor": 5
}
